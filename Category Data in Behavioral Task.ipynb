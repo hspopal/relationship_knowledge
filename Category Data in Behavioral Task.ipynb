{
 "cells": [
  {
   "cell_type": "markdown",
   "metadata": {},
   "source": [
    "# ~ Category Data ~"
   ]
  },
  {
   "cell_type": "code",
   "execution_count": 41,
   "metadata": {},
   "outputs": [],
   "source": [
    "import os, glob\n",
    "import pandas as pd\n",
    "import seaborn as sns\n",
    "import numpy as np\n",
    "from collections import Counter\n",
    "from collections import OrderedDict\n",
    "\n",
    "pd.set_option('display.max_rows', 500)\n",
    "pd.set_option('display.max_columns', 500)\n",
    "\n",
    "work_dir = '/Users/tuf69292/Google_Drive/categories_dimensions/subject_data'\n",
    "os.chdir(work_dir)"
   ]
  },
  {
   "cell_type": "markdown",
   "metadata": {},
   "source": [
    "## Importing and reading the data"
   ]
  },
  {
   "cell_type": "code",
   "execution_count": 42,
   "metadata": {},
   "outputs": [],
   "source": [
    "\n",
    "\n",
    "subjects_data = []\n",
    "for file in glob.glob(\"*.csv\"):\n",
    "    subjects_data.append(file)  \n",
    "    \n",
    "col_count_dict = {}\n",
    "dfs = {}\n",
    "count = 0\n",
    "for csv in subjects_data:\n",
    "    count += 1\n",
    "    dfs = pd.read_csv(csv)\n",
    "    col_count_dict[csv]=(len(dfs.columns)-1)\n",
    "    #printing col_count_dict will return each subject's file next to the category number (for identification purposes)\n",
    "\n",
    "\n",
    "#Turn dictionary values into a list\n",
    "a = col_count_dict.values()\n",
    "b = list(a)\n",
    "\n",
    "#The number of participants (equal to the number of csv files)\n",
    "nop = len(subjects_data)\n",
    "\n",
    "\n"
   ]
  },
  {
   "cell_type": "markdown",
   "metadata": {},
   "source": [
    "## Calculating the average"
   ]
  },
  {
   "cell_type": "code",
   "execution_count": 43,
   "metadata": {},
   "outputs": [
    {
     "data": {
      "text/plain": [
       "7.326086956521739"
      ]
     },
     "execution_count": 43,
     "metadata": {},
     "output_type": "execute_result"
    }
   ],
   "source": [
    "#Average number of categories\n",
    "avg = ((sum(b)/nop))\n",
    "avg"
   ]
  },
  {
   "cell_type": "code",
   "execution_count": 44,
   "metadata": {},
   "outputs": [],
   "source": [
    "#Turns the list into a dataframe\n",
    "bdf = pd.DataFrame(b)\n",
    "#Makes it so the list starts at 1\n",
    "bdf.index = bdf.index + 1\n"
   ]
  },
  {
   "cell_type": "markdown",
   "metadata": {},
   "source": [
    "## Making a boxplot"
   ]
  },
  {
   "cell_type": "code",
   "execution_count": 45,
   "metadata": {},
   "outputs": [
    {
     "data": {
      "text/plain": [
       "Text(0.5, 1.0, 'Behavioral Task - # of Categories')"
      ]
     },
     "execution_count": 45,
     "metadata": {},
     "output_type": "execute_result"
    },
    {
     "data": {
      "image/png": "[encoded data removed]",
      "text/plain": [
       "<Figure size 432x288 with 1 Axes>"
      ]
     },
     "metadata": {
      "needs_background": "light"
     },
     "output_type": "display_data"
    }
   ],
   "source": [
    "#Plots the data\n",
    "plot = sns.boxplot(data= bdf)\n",
    "plot = sns.swarmplot(data= bdf)\n",
    "plot.set(xlabel='Subject', ylabel='Number of Categories')\n",
    "plot.patches\n",
    "plot.set_title(\"Behavioral Task - # of Categories\")\n",
    "#plot.figure(figsize=(100, 100))"
   ]
  },
  {
   "cell_type": "code",
   "execution_count": null,
   "metadata": {},
   "outputs": [],
   "source": []
  }
 ],
 "metadata": {
  "kernelspec": {
   "display_name": "Python 3",
   "language": "python",
   "name": "python3"
  },
  "language_info": {
   "codemirror_mode": {
    "name": "ipython",
    "version": 3
   },
   "file_extension": ".py",
   "mimetype": "text/x-python",
   "name": "python",
   "nbconvert_exporter": "python",
   "pygments_lexer": "ipython3",
   "version": "3.7.3"
  }
 },
 "nbformat": 4,
 "nbformat_minor": 2
}
