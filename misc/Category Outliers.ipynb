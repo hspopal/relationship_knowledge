{
 "cells": [
  {
   "cell_type": "markdown",
   "metadata": {},
   "source": [
    "# ~ Category Data ~"
   ]
  },
  {
   "cell_type": "code",
   "execution_count": 1,
   "metadata": {},
   "outputs": [],
   "source": [
    "import os, glob\n",
    "import pandas as pd\n",
    "import seaborn as sns\n",
    "import numpy as np\n",
    "from collections import Counter\n",
    "from collections import OrderedDict\n",
    "\n",
    "pd.set_option('display.max_rows', 500)\n",
    "pd.set_option('display.max_columns', 500)\n",
    "\n",
    "work_dir = '/Volumes/GoogleDrive/My Drive/categories_dimensions/subject_data'\n",
    "os.chdir(work_dir)"
   ]
  },
  {
   "cell_type": "markdown",
   "metadata": {},
   "source": [
    "## Importing and reading the data"
   ]
  },
  {
   "cell_type": "code",
   "execution_count": 22,
   "metadata": {},
   "outputs": [
    {
     "data": {
      "text/plain": [
       "{'Meadows_Social_Relationship_Knowledge_v_v2_divine-pigeon_2_table.csv': 8,\n",
       " 'Meadows_Social_Relationship_Knowledge_v_v2_ready-sloth_2_table.csv': 8,\n",
       " 'Meadows_Social_Relationship_Knowledge_v_v2_amazed-cub_2_table.csv': 8,\n",
       " 'Meadows_Social_Relationship_Knowledge_v_v3_meet-mule_2_table.csv': 8,\n",
       " 'Meadows_Social_Relationship_Knowledge_v_v3_whole-mantis_2_table.csv': 7,\n",
       " 'Meadows_Social_Relationship_Knowledge_v_v3_enough-falcon_2_table.csv': 7,\n",
       " 'Meadows_Social_Relationship_Knowledge_v_v3_more-ferret_2_table.csv': 8,\n",
       " 'Meadows_Social_Relationship_Knowledge_v_v3_neat-marten_2_table.csv': 8,\n",
       " 'Meadows_Social_Relationship_Knowledge_v_v3_keen-hen_2_table.csv': 8,\n",
       " 'Meadows_Social_Relationship_Knowledge_v_v3_moral-cub_2_table.csv': 8,\n",
       " 'Meadows_Social_Relationship_Knowledge_v_v3_awake-gannet_2_table.csv': 8,\n",
       " 'Meadows_Social_Relationship_Knowledge_v_v3_exact-toucan_2_table.csv': 7,\n",
       " 'Meadows_Social_Relationship_Knowledge_v_v3_in-horse_2_table.csv': 8,\n",
       " 'Meadows_Social_Relationship_Knowledge_v_v3_secure-osprey_2_table.csv': 8,\n",
       " 'Meadows_Social_Relationship_Knowledge_v_v3_valued-ape_2_table.csv': 7,\n",
       " 'Meadows_Social_Relationship_Knowledge_v_v3_great-midge_2_table.csv': 6,\n",
       " 'Meadows_Social_Relationship_Knowledge_v_v3_upward-kid_2_table.csv': 8,\n",
       " 'Meadows_Social_Relationship_Knowledge_v_v3_tough-jennet_2_table.csv': 8,\n",
       " 'Meadows_Social_Relationship_Knowledge_v_v3_noted-salmon_2_table.csv': 8,\n",
       " 'Meadows_Social_Relationship_Knowledge_v_v3_heroic-crab_2_table.csv': 8,\n",
       " 'Meadows_Social_Relationship_Knowledge_v_v3_ready-squid_2_table.csv': 7,\n",
       " 'Meadows_Social_Relationship_Knowledge_v_v3_funny-buck_2_table.csv': 8,\n",
       " 'Meadows_Social_Relationship_Knowledge_v_v3_pet-beetle_2_table.csv': 6,\n",
       " 'Meadows_Social_Relationship_Knowledge_v_v3_equal-bug_2_table.csv': 7,\n",
       " 'Meadows_Social_Relationship_Knowledge_v_v3_stable-minnow_2_table.csv': 8,\n",
       " 'Meadows_Social_Relationship_Knowledge_v_v3_calm-dove_2_table.csv': 8,\n",
       " 'Meadows_Social_Relationship_Knowledge_v_v3_comic-viper_2_table.csv': 6,\n",
       " 'Meadows_Social_Relationship_Knowledge_v_v3_solid-ox_2_table.csv': 6,\n",
       " 'Meadows_Social_Relationship_Knowledge_v_v3_amazed-dodo_2_table.csv': 8,\n",
       " 'Meadows_Social_Relationship_Knowledge_v_v3_finer-oryx_2_table.csv': 8,\n",
       " 'Meadows_Social_Relationship_Knowledge_v_v3_moral-grouse_2_table.csv': 8,\n",
       " 'Meadows_Social_Relationship_Knowledge_v_v3_alert-wahoo_2_table.csv': 7,\n",
       " 'Meadows_Social_Relationship_Knowledge_v_v3_expert-coral_2_table.csv': 8,\n",
       " 'Meadows_Social_Relationship_Knowledge_v_v3_subtle-perch_2_table.csv': 8,\n",
       " 'Meadows_Social_Relationship_Knowledge_v_v3_handy-moth_2_table.csv': 6,\n",
       " 'Meadows_Social_Relationship_Knowledge_v_v3_modern-monkey_2_table.csv': 7,\n",
       " 'Meadows_Social_Relationship_Knowledge_v_v3_smart-clam_2_table.csv': 8,\n",
       " 'Meadows_Social_Relationship_Knowledge_v_v3_holy-grouse_2_table.csv': 7,\n",
       " 'Meadows_Social_Relationship_Knowledge_v_v3_key-eagle_2_table.csv': 7,\n",
       " 'Meadows_Social_Relationship_Knowledge_v_v3_close-burro_2_table.csv': 7,\n",
       " 'Meadows_Social_Relationship_Knowledge_v_v3_brave-moth_2_table.csv': 7,\n",
       " 'Meadows_Social_Relationship_Knowledge_v_v3_giving-racer_2_table.csv': 8,\n",
       " 'Meadows_Social_Relationship_Knowledge_v_v3_better-kite_2_table.csv': 8,\n",
       " 'Meadows_Social_Relationship_Knowledge_v_v3_fast-ant_2_table.csv': 6,\n",
       " 'Meadows_Social_Relationship_Knowledge_v_v3_unique-tapir_2_table.csv': 6,\n",
       " 'Meadows_Social_Relationship_Knowledge_v_v3_intent-gull_2_table.csv': 3,\n",
       " 'Meadows_Social_Relationship_Knowledge_v_v3_just-kit_2_table.csv': 8,\n",
       " 'Meadows_Social_Relationship_Knowledge_v_v3_vast-bunny_2_table.csv': 8,\n",
       " 'Meadows_Social_Relationship_Knowledge_v_v3_sure-adder_2_table.csv': 8}"
      ]
     },
     "execution_count": 22,
     "metadata": {},
     "output_type": "execute_result"
    }
   ],
   "source": [
    "\n",
    "\n",
    "subjects_data = []\n",
    "for file in glob.glob(\"*.csv\"):\n",
    "    subjects_data.append(file)  \n",
    "    \n",
    "col_count_dict = {}\n",
    "dfs = {}\n",
    "count = 0\n",
    "for csv in subjects_data:\n",
    "    count += 1\n",
    "    dfs = pd.read_csv(csv)\n",
    "    col_count_dict[csv]=(len(dfs.columns)-1)\n",
    "    #printing col_count_dict will return each subject's file next to the category number (for identification purposes)\n",
    "\n",
    "\n",
    "#Turn dictionary values into a list\n",
    "a = col_count_dict.values()\n",
    "b = list(a)\n",
    "\n",
    "#The number of participants (equal to the number of csv files)\n",
    "nop = len(subjects_data)\n",
    "\n",
    "col_count_dict"
   ]
  },
  {
   "cell_type": "markdown",
   "metadata": {},
   "source": [
    "## Calculating the average"
   ]
  },
  {
   "cell_type": "code",
   "execution_count": 19,
   "metadata": {},
   "outputs": [
    {
     "name": "stdout",
     "output_type": "stream",
     "text": [
      "6.404912153261094\n"
     ]
    }
   ],
   "source": [
    "#Average number of categories\n",
    "avg = ((sum(b)/nop))\n",
    "avg\n",
    "\n",
    "#Two standard deviations\n",
    "SD = np.std(b) \n",
    "SD*2\n",
    "print(avg-SD)"
   ]
  },
  {
   "cell_type": "code",
   "execution_count": 4,
   "metadata": {},
   "outputs": [],
   "source": [
    "#Turns the list into a dataframe\n",
    "bdf = pd.DataFrame(b)\n",
    "#Makes it so the list starts at 1\n",
    "bdf.index = bdf.index + 1\n"
   ]
  },
  {
   "cell_type": "markdown",
   "metadata": {},
   "source": [
    "## Making a boxplot"
   ]
  },
  {
   "cell_type": "code",
   "execution_count": 5,
   "metadata": {},
   "outputs": [
    {
     "data": {
      "text/plain": [
       "Text(0.5, 1.0, 'Behavioral Task - # of Categories')"
      ]
     },
     "execution_count": 5,
     "metadata": {},
     "output_type": "execute_result"
    },
    {
     "data": {
      "image/png": "[encoded data removed]",
      "text/plain": [
       "<Figure size 432x288 with 1 Axes>"
      ]
     },
     "metadata": {
      "needs_background": "light"
     },
     "output_type": "display_data"
    }
   ],
   "source": [
    "#Plots the data\n",
    "plot = sns.boxplot(data= bdf)\n",
    "plot = sns.swarmplot(data= bdf)\n",
    "plot.set(xlabel='Subject', ylabel='Number of Categories')\n",
    "plot.patches\n",
    "plot.set_title(\"Behavioral Task - # of Categories\")\n",
    "#plot.figure(figsize=(100, 100))"
   ]
  },
  {
   "cell_type": "code",
   "execution_count": null,
   "metadata": {},
   "outputs": [],
   "source": []
  }
 ],
 "metadata": {
  "kernelspec": {
   "display_name": "Python 3",
   "language": "python",
   "name": "python3"
  },
  "language_info": {
   "codemirror_mode": {
    "name": "ipython",
    "version": 3
   },
   "file_extension": ".py",
   "mimetype": "text/x-python",
   "name": "python",
   "nbconvert_exporter": "python",
   "pygments_lexer": "ipython3",
   "version": "3.7.3"
  }
 },
 "nbformat": 4,
 "nbformat_minor": 2
}
