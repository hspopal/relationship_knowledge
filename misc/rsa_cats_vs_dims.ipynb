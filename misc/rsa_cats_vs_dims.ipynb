{
 "cells": [
  {
   "cell_type": "markdown",
   "metadata": {},
   "source": [
    "# Categories vs Dimensions Analysis\n",
    "Is knowledge about social relationships conceptually organized as categories or dimensions?\n",
    "\n",
    "Representational similarity analysis (RSA) will be used to explore this question. Representational dissimilarity matrices (RDMs) will be created for the dimensional and categorical tasks for each participant. These will be the unit of comparison for each participant."
   ]
  },
  {
   "cell_type": "code",
   "execution_count": null,
   "metadata": {},
   "outputs": [],
   "source": [
    "import os\n",
    "import glob\n",
    "import numpy as np\n",
    "import pandas as pd\n",
    "import matplotlib.pyplot as plt\n",
    "import seaborn as sns\n",
    "from nltools.data import Brain_Data, Adjacency\n",
    "from nltools.mask import expand_mask\n",
    "from nltools.stats import fdr, threshold, fisher_r_to_z, one_sample_permutation\n",
    "from sklearn.metrics import pairwise_distances\n",
    "from nilearn.plotting import plot_glass_brain, plot_stat_map"
   ]
  },
  {
   "cell_type": "markdown",
   "metadata": {},
   "source": [
    "# Dimensions Analysis\n",
    "To capture the dimensional organization of social relationships, we will consider how participants organize relationships in a \"free-arrangement\" task. In this task, participants were asked to organize 159 social relationships in a circular area, based on their own perceived similarites of the relationships.\n",
    "\n",
    "The difference between relationships will be captured as the distance between the relationships placement within the circle. Therefore, we will have a continuous measure of the difference (or similarity) between relationships.\n",
    "\n",
    "dissimilarity = Euclidean distance between relationships, after multi-dimensional scaling (MDS) was completed"
   ]
  },
  {
   "cell_type": "markdown",
   "metadata": {},
   "source": [
    "### Data import and prep\n",
    "Distances were automatically calculated by the task software (distance from MDS). The output of the data is a 1-D array with dissimilarities between each of the relationships. This 1-D array will be converted into a 2-D dissimilarity matrix, for each subject."
   ]
  },
  {
   "cell_type": "code",
   "execution_count": null,
   "metadata": {},
   "outputs": [],
   "source": []
  },
  {
   "cell_type": "markdown",
   "metadata": {},
   "source": [
    "## Remove bad participants\n",
    "Remove participants who did not do the task correctly"
   ]
  },
  {
   "cell_type": "code",
   "execution_count": null,
   "metadata": {},
   "outputs": [],
   "source": []
  },
  {
   "cell_type": "markdown",
   "metadata": {},
   "source": [
    "## Create RDM"
   ]
  },
  {
   "cell_type": "code",
   "execution_count": null,
   "metadata": {},
   "outputs": [],
   "source": []
  },
  {
   "cell_type": "markdown",
   "metadata": {},
   "source": [
    "## Plot RDM for a single subject \n",
    "This is just for visualization. Not presenting any results"
   ]
  },
  {
   "cell_type": "code",
   "execution_count": null,
   "metadata": {},
   "outputs": [],
   "source": []
  },
  {
   "cell_type": "markdown",
   "metadata": {},
   "source": [
    "# Category Analysis\n",
    "To capture the categorical orgnization of social relationships, we will consider how participants organize relationships into discrete categories. In this task, participants were asked to organize 159 social relationships into categories of their choosing. They could make up to 8 categories, and could name them anything they wanted. Participants were also able to place a single relationship into multiple categories. \n",
    "\n",
    "The difference between relationships will be calculate based on whether relationships were in the same category or not. A dissimilarity matrix will be created, where relationships which were in the same category, will have a value of \"0\" for that respective cell in the matrix, while relationships which were in different categories, will have a \"1\" for that respective cell. \n",
    "\n",
    "dissimilarity = same (0) or different (1) categories"
   ]
  },
  {
   "cell_type": "markdown",
   "metadata": {},
   "source": [
    "### Data import and prep"
   ]
  },
  {
   "cell_type": "code",
   "execution_count": null,
   "metadata": {},
   "outputs": [],
   "source": []
  },
  {
   "cell_type": "markdown",
   "metadata": {},
   "source": [
    "## Remove outliers and bad participants\n",
    "Remove participants who made too few categories or that did not do that task correctly.\n",
    "\n",
    "Too few is defined as ...."
   ]
  },
  {
   "cell_type": "code",
   "execution_count": null,
   "metadata": {},
   "outputs": [],
   "source": []
  },
  {
   "cell_type": "markdown",
   "metadata": {},
   "source": [
    "## Creating category RDMs"
   ]
  },
  {
   "cell_type": "code",
   "execution_count": null,
   "metadata": {},
   "outputs": [],
   "source": []
  },
  {
   "cell_type": "markdown",
   "metadata": {},
   "source": [
    "## Plot RDM"
   ]
  },
  {
   "cell_type": "code",
   "execution_count": null,
   "metadata": {},
   "outputs": [],
   "source": [
    "\n",
    "f = cat_adj.plot(cmap=sns.color_palette(\"Blues\"))"
   ]
  },
  {
   "cell_type": "markdown",
   "metadata": {},
   "source": [
    "# RSA - Category and Dimensional similarity\n",
    "First, we will correlate each subject's categorical RDM and dimensional RDM.\n",
    "\n",
    "cat = category\n",
    "mla = multi-arrangement (free arrangment). We should probably use free arrangement as the name for now on"
   ]
  },
  {
   "cell_type": "code",
   "execution_count": null,
   "metadata": {},
   "outputs": [],
   "source": [
    "# Create dictionaries to store each subject's RDMs\n",
    "## Might be better to do this part in the above sections, and then use the \n",
    "## dictionaries here\n",
    "all_sub_cat_rsa = {}; all_sub_mla_rsa = {};\n",
    "\n",
    "for subj in subjs_list:\n",
    "    \n",
    "    # Prep subject categorical RDM\n",
    "    rdm_filename = [s for s in cat_rdm_list if subj[-3:] in s]\n",
    "    subj_cat_rdm = pd.read_csv(rdm_filename[0], index_col=0)\n",
    "    \n",
    "    # Category matrices were originally similarities, so we will turn them into dissimilarities\n",
    "    subj_cat_rdm = np.abs(subj_cat_rdm - 1)\n",
    "\n",
    "    # Turn RDM into an adjacency matrix for nltools\n",
    "    subj_cat_adj = Adjacency(subj_cat_rdm[conditions].loc[conditions], matrix_type='distance', labels=conditions)\n",
    "    \n",
    "    \n",
    "    # Prep subject multi-arrangement RDM\n",
    "    rdm_filename = [s for s in mla_rdm_list if subj[-3:] in s]\n",
    "    subj_mla_rdm = pd.read_csv(rdm_filename[0], index_col=0)\n",
    "    \n",
    "\n",
    "    subj_mla_adj = Adjacency(subj_mla_rdm[conditions].loc[conditions], matrix_type='distance', labels=conditions)\n",
    "    \n",
    "    \n",
    "    # Compare behavioral RDMs to neural RDM\n",
    "    s_cat_mla = subj_mla_adj.similarity(subj_cat_adj, metric='spearman', n_permute=0)\n",
    "\n",
    "    #sub_pattern.append(sub_pattern_similarity)\n",
    "    #motor_left_sim_r.append(s['correlation'])\n",
    "    \n",
    "    all_sub_cat_mla_rsa[subj] = s_cat_mla['correlation']\n",
    "all_sub_cat_mla_rsa = pd.DataFrame(all_sub_cat_mla_rsa, index=['r', 'p']).T\n"
   ]
  },
  {
   "cell_type": "markdown",
   "metadata": {},
   "source": [
    "# Categories vs Dimensions\n",
    "In this analysis, we will see if there is higher inter-subject reliability with the categorization task, or with the free arrangement task."
   ]
  }
 ],
 "metadata": {
  "kernelspec": {
   "display_name": "Python 3",
   "language": "python",
   "name": "python3"
  },
  "language_info": {
   "codemirror_mode": {
    "name": "ipython",
    "version": 3
   },
   "file_extension": ".py",
   "mimetype": "text/x-python",
   "name": "python",
   "nbconvert_exporter": "python",
   "pygments_lexer": "ipython3",
   "version": "3.7.4"
  }
 },
 "nbformat": 4,
 "nbformat_minor": 2
}
